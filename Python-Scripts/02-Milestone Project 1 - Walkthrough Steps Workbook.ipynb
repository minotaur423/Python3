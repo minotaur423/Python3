{
 "cells": [
  {
   "cell_type": "markdown",
   "metadata": {},
   "source": [
    "# Milestone Project 1: Walkthrough Steps Workbook\n",
    "\n",
    "Below is a set of steps for you to follow to try to create the Tic Tac Toe Milestone Project game!"
   ]
  },
  {
   "cell_type": "markdown",
   "metadata": {},
   "source": [
    "#### Some suggested tools before you get started:\n",
    "To take input from a user:\n",
    "\n",
    "    player1 = input(\"Please pick a marker 'X' or 'O'\")\n",
    "    \n",
    "Note that input() takes in a string. If you need an integer value, use\n",
    "\n",
    "    position = int(input('Please enter a number'))\n",
    "    \n",
    "<br>To clear the screen between moves:\n",
    "\n",
    "    from IPython.display import clear_output\n",
    "    clear_output()\n",
    "    \n",
    "Note that clear_output() will only work in jupyter. To clear the screen in other IDEs, consider:\n",
    "\n",
    "    print('\\n'*100)\n",
    "    \n",
    "This scrolls the previous board up out of view. Now on to the program!"
   ]
  },
  {
   "cell_type": "markdown",
   "metadata": {},
   "source": [
    "**Step 1: Write a function that can print out a board. Set up your board as a list, where each index 1-9 corresponds with a number on a number pad, so you get a 3 by 3 board representation.**"
   ]
  },
  {
   "cell_type": "code",
   "execution_count": null,
   "metadata": {},
   "outputs": [],
   "source": [
    "from IPython.display import clear_output\n",
    "\n",
    "def display_board(board):\n",
    "    clear_output()\n",
    "    result = ''\n",
    "    tbl = { 'line1':'   |   |   \\n', 'area7':'   ', 'line2-1':'|', 'area8':'   ', 'line2-2':'|', 'area9':'   ', 'line2-3':'\\n', 'line3':'   |   |   \\n', 'line4':'-----------\\n', 'line5':'   |   |   \\n', 'area4':'   ', 'line6-1':'|', 'area5':'   ', 'line6-2':'|', 'area6':'   ', 'line6-3':'\\n', \n",
    "            'line7':'   |   |   \\n', 'line8':'-----------\\n', 'line9':'   |   |   \\n', 'area1':'   ', 'line10-1':'|', 'area2':'   ', 'line10-2':'|', 'area3':'   ', 'line10-3':'\\n', 'line11':'   |   |   \\n' }\n",
    "\n",
    "    for num in range(1,10):\n",
    "        tbl['area' + str(num)] = ' ' + board[num] + ' '\n",
    "\n",
    "    for i,j in tbl.items():\n",
    "        result += tbl[i]\n",
    "    \n",
    "    return print(result)"
   ]
  },
  {
   "cell_type": "markdown",
   "metadata": {},
   "source": [
    "**TEST Step 1:** run your function on a test version of the board list, and make adjustments as necessary"
   ]
  },
  {
   "cell_type": "code",
   "execution_count": null,
   "metadata": {},
   "outputs": [],
   "source": [
    "test_board = ['#','X','O','X','O','X','O','X','O','X']\n",
    "display_board(test_board)"
   ]
  },
  {
   "cell_type": "markdown",
   "metadata": {},
   "source": [
    "**Step 2: Write a function that can take in a player input and assign their marker as 'X' or 'O'. Think about using *while* loops to continually ask until you get a correct answer.**"
   ]
  },
  {
   "cell_type": "code",
   "execution_count": null,
   "metadata": {},
   "outputs": [],
   "source": [
    "def player_input():\n",
    "    first_marker = input(\"Do you want to be 'X' or 'O'? \").upper()\n",
    "\n",
    "    while not first_marker:\n",
    "        first_marker = input(\"Do you want to be 'X' or 'O' \").upper()\n",
    "    \n",
    "    while first_marker:\n",
    "        if first_marker == 'X' or first_marker == 'O':\n",
    "            break\n",
    "        else:\n",
    "            first_marker = input(\"Do you want to be 'X' or 'O' \").upper()\n",
    "\n",
    "    return first_marker"
   ]
  },
  {
   "cell_type": "markdown",
   "metadata": {},
   "source": [
    "**TEST Step 2:** run the function to make sure it returns the desired output"
   ]
  },
  {
   "cell_type": "code",
   "execution_count": null,
   "metadata": {},
   "outputs": [],
   "source": [
    "player_input()"
   ]
  },
  {
   "cell_type": "markdown",
   "metadata": {},
   "source": [
    "**Step 3: Write a function that takes in the board list object, a marker ('X' or 'O'), and a desired position (number 1-9) and assigns it to the board.**"
   ]
  },
  {
   "cell_type": "code",
   "execution_count": null,
   "metadata": {},
   "outputs": [],
   "source": [
    "def place_marker(board, marker, position):\n",
    "    board[position] = marker"
   ]
  },
  {
   "cell_type": "markdown",
   "metadata": {},
   "source": [
    "**TEST Step 3:** run the place marker function using test parameters and display the modified board"
   ]
  },
  {
   "cell_type": "code",
   "execution_count": null,
   "metadata": {},
   "outputs": [],
   "source": [
    "place_marker(test_board,'O',8)\n",
    "display_board(test_board)"
   ]
  },
  {
   "cell_type": "markdown",
   "metadata": {},
   "source": [
    "**Step 4: Write a function that takes in a board and a mark (X or O) and then checks to see if that mark has won. **"
   ]
  },
  {
   "cell_type": "code",
   "execution_count": null,
   "metadata": {},
   "outputs": [],
   "source": [
    "def win_check(board, mark):\n",
    "    win = [mark]*3\n",
    "    if board[1:4] == win or board[4:7] == win or board[7:] == win:\n",
    "        result = True\n",
    "    elif board[1:8:3] == win or board[2:9:3] == win or board[3::3] == win:\n",
    "        result = True\n",
    "    elif board[1::4] == win or board[3:8:2] == win:\n",
    "        result = True\n",
    "    else:\n",
    "        result = False\n",
    "    return result"
   ]
  },
  {
   "cell_type": "markdown",
   "metadata": {},
   "source": [
    "**TEST Step 4:** run the win_check function against our test_board - it should return True"
   ]
  },
  {
   "cell_type": "code",
   "execution_count": null,
   "metadata": {},
   "outputs": [],
   "source": [
    "win_check(test_board,'X')"
   ]
  },
  {
   "cell_type": "markdown",
   "metadata": {},
   "source": [
    "**Step 5: Write a function that uses the random module to randomly decide which player goes first. You may want to lookup random.randint() Return a string of which player went first.**"
   ]
  },
  {
   "cell_type": "code",
   "execution_count": null,
   "metadata": {},
   "outputs": [],
   "source": [
    "import random\n",
    "\n",
    "def choose_first():\n",
    "    items = ['Player1', 'Player2']\n",
    "    return random.choice(items)"
   ]
  },
  {
   "cell_type": "markdown",
   "metadata": {},
   "source": [
    "**Step 6: Write a function that returns a boolean indicating whether a space on the board is freely available.**"
   ]
  },
  {
   "cell_type": "code",
   "execution_count": null,
   "metadata": {},
   "outputs": [],
   "source": [
    "def space_check(board, position):\n",
    "    return board[position] == ' '"
   ]
  },
  {
   "cell_type": "markdown",
   "metadata": {},
   "source": [
    "**Step 7: Write a function that checks if the board is full and returns a boolean value. True if full, False otherwise.**"
   ]
  },
  {
   "cell_type": "code",
   "execution_count": null,
   "metadata": {},
   "outputs": [],
   "source": [
    "def full_board_check(board):\n",
    "    for space in board:\n",
    "        if space == ' ':\n",
    "            result = True\n",
    "            break\n",
    "        else:\n",
    "            result = False\n",
    "    return result"
   ]
  },
  {
   "cell_type": "markdown",
   "metadata": {},
   "source": [
    "**Step 8: Write a function that asks for a player's next position (as a number 1-9) and then uses the function from step 6 to check if it's a free position. If it is, then return the position for later use.**"
   ]
  },
  {
   "cell_type": "code",
   "execution_count": null,
   "metadata": {},
   "outputs": [],
   "source": [
    "def player_choice(board):\n",
    "    while True:\n",
    "        try:\n",
    "            position = int(input('Please enter a number from 1-9: '))\n",
    "            if position > 9 or position < 0:\n",
    "                print(\"You must enter a number from 1 to 9: \")\n",
    "                continue\n",
    "        except ValueError:\n",
    "            print(\"You must enter a number from 1 to 9: \")\n",
    "            continue\n",
    "        else:\n",
    "            break\n",
    "    return position"
   ]
  },
  {
   "cell_type": "markdown",
   "metadata": {},
   "source": [
    "**Step 9: Write a function that asks the player if they want to play again and returns a boolean True if they do want to play again.**"
   ]
  },
  {
   "cell_type": "code",
   "execution_count": null,
   "metadata": {},
   "outputs": [],
   "source": [
    "def replay():\n",
    "    play_again = input('\\nDo you want to play again? Enter Yes or No: ')\n",
    "    if play_again.upper() == 'YES' or play_again.upper() == 'Y':\n",
    "        return True\n",
    "    else:\n",
    "        return False"
   ]
  },
  {
   "cell_type": "markdown",
   "metadata": {
    "collapsed": true
   },
   "source": [
    "**Step 10: Here comes the hard part! Use while loops and the functions you've made to run the game!**"
   ]
  },
  {
   "cell_type": "code",
   "execution_count": 1,
   "metadata": {},
   "outputs": [
    {
     "name": "stdout",
     "output_type": "stream",
     "text": [
      "   |   |   \n",
      " X |   | O \n",
      "   |   |   \n",
      "-----------\n",
      "   |   |   \n",
      " X | X | O \n",
      "   |   |   \n",
      "-----------\n",
      "   |   |   \n",
      " X | O |   \n",
      "   |   |   \n",
      "\n",
      "\n",
      "Congratulations Player2! You have won the game!\n",
      "\n",
      "Do you want to play again? Enter Yes or No: n\n"
     ]
    }
   ],
   "source": [
    "from IPython.display import clear_output\n",
    "\n",
    "def display_board(board):\n",
    "    clear_output()\n",
    "    result = ''\n",
    "    tbl = { 'line1':'   |   |   \\n', 'area7':'   ', 'line2-1':'|', 'area8':'   ', 'line2-2':'|', 'area9':'   ', 'line2-3':'\\n', 'line3':'   |   |   \\n', 'line4':'-----------\\n', 'line5':'   |   |   \\n', 'area4':'   ', 'line6-1':'|', 'area5':'   ', 'line6-2':'|', 'area6':'   ', 'line6-3':'\\n', \n",
    "            'line7':'   |   |   \\n', 'line8':'-----------\\n', 'line9':'   |   |   \\n', 'area1':'   ', 'line10-1':'|', 'area2':'   ', 'line10-2':'|', 'area3':'   ', 'line10-3':'\\n', 'line11':'   |   |   \\n' }\n",
    "\n",
    "    for num in range(1,10):\n",
    "        tbl['area' + str(num)] = ' ' + board[num] + ' '\n",
    "\n",
    "    for i,j in tbl.items():\n",
    "        result += tbl[i]\n",
    "    \n",
    "    return print(result)\n",
    "\n",
    "import random\n",
    "\n",
    "def choose_first():\n",
    "    items = ['Player1', 'Player2']\n",
    "    return random.choice(items)\n",
    "\n",
    "def space_check(board, position):\n",
    "    return board[position] == ' '\n",
    "\n",
    "def full_board_check(board):\n",
    "    for space in board:\n",
    "        if space == ' ':\n",
    "            result = True\n",
    "            break\n",
    "        else:\n",
    "            result = False\n",
    "    return result\n",
    "\n",
    "def player_input():\n",
    "    first_marker = ' '\n",
    "    while first_marker.upper() != 'X' and first_marker.upper() != 'O':\n",
    "        first_marker = input(\"Do you want to be 'X' or 'O' \").upper()\n",
    "    \n",
    "    marker1 = first_marker\n",
    "    if marker1 == 'X':\n",
    "        marker2 = 'O'\n",
    "    else:\n",
    "        marker2 = 'X'\n",
    "    return (marker1, marker2)\n",
    "\n",
    "def place_marker(board, marker, position):\n",
    "    board[position] = marker\n",
    "    \n",
    "def win_check(board, mark):\n",
    "    win = [mark]*3\n",
    "    if board[1:4] == win or board[4:7] == win or board[7:] == win:\n",
    "        result = True\n",
    "    elif board[1:8:3] == win or board[2:9:3] == win or board[3::3] == win:\n",
    "        result = True\n",
    "    elif board[1::4] == win or board[3:8:2] == win:\n",
    "        result = True\n",
    "    else:\n",
    "        result = False\n",
    "    return result\n",
    "\n",
    "def player_choice(board):\n",
    "    while True:\n",
    "        try:\n",
    "            position = int(input('Please enter a number from 1-9: '))\n",
    "            if position > 9 or position < 0:\n",
    "                print(\"\\nYou must enter a number from 1 to 9: \")\n",
    "                continue\n",
    "        except ValueError:\n",
    "            print(\"\\nYou must enter a number from 1 to 9: \")\n",
    "            continue\n",
    "        else:\n",
    "            break\n",
    "    return position\n",
    "        \n",
    "def replay():\n",
    "    play_again = input('\\nDo you want to play again? Enter Yes or No: ')\n",
    "    if play_again.upper() == 'YES' or play_again.upper() == 'Y':\n",
    "        return True\n",
    "    else:\n",
    "        return False\n",
    "    \n",
    "print('Welcome to Tic Tac Toe!\\n')\n",
    "  \n",
    "first_player = ''\n",
    "next_player = ''\n",
    "marker = ''\n",
    "game_on = bool()\n",
    "\n",
    "while True:\n",
    "    first_player = choose_first()\n",
    "    print(f'{first_player} will go first.\\n')\n",
    "\n",
    "    if first_player == 'Player1':\n",
    "        next_player = 'Player2'\n",
    "        marker = player_input()\n",
    "    else:\n",
    "        first_player = 'Player2'\n",
    "        next_player = 'Player1'\n",
    "        marker = player_input()\n",
    "\n",
    "    ready = input('Are you ready to play? Enter Yes or No. ')\n",
    "    if ready.lower() == 'yes' or ready.lower() == 'y':\n",
    "        game_on = True\n",
    "    else:\n",
    "        game_on = False\n",
    "        break\n",
    "    play_board = ['#',' ',' ',' ',' ',' ',' ',' ',' ',' ']\n",
    "    display_board(play_board)\n",
    "    \n",
    "    while game_on:\n",
    "        print(f'\\n{first_player}:', end=\" \")\n",
    "        position1 = player_choice(play_board)\n",
    "        available1 = space_check(play_board,position1)\n",
    "\n",
    "        while not available1:\n",
    "            position1 = player_choice(play_board)\n",
    "            available1 = space_check(play_board,position1)\n",
    "        place_marker(play_board,marker[0],position1)\n",
    "        display_board(play_board)\n",
    "        we_have_a_winner = win_check(play_board,marker[0])\n",
    "        \n",
    "        if we_have_a_winner == True:\n",
    "            print(f'\\nCongratulations {first_player}! You have won the game!')\n",
    "            break\n",
    "        game_on = full_board_check(play_board)\n",
    "        \n",
    "        if game_on == False:\n",
    "            print('The game is a draw!')\n",
    "            break\n",
    "        print(f'\\n{next_player}:', end=\" \")\n",
    "        position2 = player_choice(play_board)\n",
    "        available2 = space_check(play_board,position2)\n",
    "        \n",
    "        while not available2:\n",
    "            position2 = player_choice(play_board)\n",
    "            available2 = space_check(play_board,position2)\n",
    "        place_marker(play_board,marker[1],position2)\n",
    "        display_board(play_board)\n",
    "        we_have_a_winner = win_check(play_board,marker[1])\n",
    "        \n",
    "        if we_have_a_winner == True:\n",
    "            print(f'\\nCongratulations {next_player}! You have won the game!')\n",
    "            break\n",
    "        game_on = full_board_check(play_board)\n",
    "        \n",
    "        if game_on == False:\n",
    "            print('The game is a draw!')\n",
    "            break\n",
    "        \n",
    "    if not replay():\n",
    "        break"
   ]
  },
  {
   "cell_type": "markdown",
   "metadata": {
    "collapsed": true
   },
   "source": [
    "## Good Job!"
   ]
  }
 ],
 "metadata": {
  "kernelspec": {
   "display_name": "Python 3",
   "language": "python",
   "name": "python3"
  },
  "language_info": {
   "codemirror_mode": {
    "name": "ipython",
    "version": 3
   },
   "file_extension": ".py",
   "mimetype": "text/x-python",
   "name": "python",
   "nbconvert_exporter": "python",
   "pygments_lexer": "ipython3",
   "version": "3.7.0"
  }
 },
 "nbformat": 4,
 "nbformat_minor": 1
}
