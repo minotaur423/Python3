{
 "cells": [
  {
   "cell_type": "code",
   "execution_count": 2,
   "metadata": {},
   "outputs": [
    {
     "name": "stdout",
     "output_type": "stream",
     "text": [
      "function\n"
     ]
    }
   ],
   "source": [
    "def LongestWord(sen):\n",
    "    sen1 = sen.split()\n",
    "    length = 0\n",
    "    for word in sen1:\n",
    "        if len(word) > length:\n",
    "            length = len(word)\n",
    "            longestwrd = word\n",
    "    return longestwrd\n",
    "\n",
    "print(LongestWord(\"This is a test of a function to pull the longest word.\"))"
   ]
  },
  {
   "cell_type": "code",
   "execution_count": 4,
   "metadata": {},
   "outputs": [
    {
     "name": "stdout",
     "output_type": "stream",
     "text": [
      "function\n"
     ]
    }
   ],
   "source": [
    "def LongestWord(sen):\n",
    "    longestwrd = max(sen.split(), key=len)\n",
    "    return longestwrd\n",
    "\n",
    "print(LongestWord(\"This is a test of a function to pull the longest word.\"))"
   ]
  },
  {
   "cell_type": "code",
   "execution_count": 29,
   "metadata": {},
   "outputs": [
    {
     "name": "stdout",
     "output_type": "stream",
     "text": [
      "What is your name? Jose\n",
      "What is your age? 54\n",
      "Jose will turn 100 years old in the year 2064.\n"
     ]
    }
   ],
   "source": [
    "# Create a program that asks the user to enter their name and their age. Print out a message addressed to \n",
    "# them that tells them the year that they will turn 100 years old.\n",
    "\n",
    "# Extras:\n",
    "\n",
    "# Add on to the previous program by asking the user for another number and printing out that many copies \n",
    "# of the previous message. (Hint: order of operations exists in Python)\n",
    "# Print out that many copies of the previous message on separate lines. \n",
    "# (Hint: the string \"\\n is the same as pressing the ENTER button)\n",
    "import time\n",
    "name = input(\"What is your name? \")\n",
    "age = int(input(\"What is your age? \"))\n",
    "year = time.localtime()[0] + (100 - age)\n",
    "print(f'{name} will turn 100 years old in the year {int(year)}.')"
   ]
  },
  {
   "cell_type": "code",
   "execution_count": 1,
   "metadata": {},
   "outputs": [],
   "source": [
    "def missing_char(str, n):\n",
    "  front = str[:n]   # up to but not including n\n",
    "  back = str[n+1:]  # n+1 through end of string\n",
    "  return front + back"
   ]
  },
  {
   "cell_type": "code",
   "execution_count": 4,
   "metadata": {},
   "outputs": [
    {
     "data": {
      "text/plain": [
       "'ktten'"
      ]
     },
     "execution_count": 4,
     "metadata": {},
     "output_type": "execute_result"
    }
   ],
   "source": [
    "missing_char('kitten', 1)"
   ]
  },
  {
   "cell_type": "markdown",
   "metadata": {},
   "source": [
    "The parameter weekday is True if it is a weekday, and the parameter vacation is True if we are on vacation. We sleep in if it is not a weekday or we're on vacation. Return True if we sleep in.\n",
    "\n",
    "sleep_in(False, False) → True\n",
    "sleep_in(True, False) → False\n",
    "sleep_in(False, True) → True"
   ]
  },
  {
   "cell_type": "code",
   "execution_count": 5,
   "metadata": {},
   "outputs": [],
   "source": [
    "def sleep_in(weekday, vacation):\n",
    "  return(not weekday or vacation)"
   ]
  },
  {
   "cell_type": "code",
   "execution_count": 6,
   "metadata": {},
   "outputs": [
    {
     "data": {
      "text/plain": [
       "True"
      ]
     },
     "execution_count": 6,
     "metadata": {},
     "output_type": "execute_result"
    }
   ],
   "source": [
    "sleep_in(False, False)"
   ]
  },
  {
   "cell_type": "code",
   "execution_count": 7,
   "metadata": {},
   "outputs": [
    {
     "data": {
      "text/plain": [
       "False"
      ]
     },
     "execution_count": 7,
     "metadata": {},
     "output_type": "execute_result"
    }
   ],
   "source": [
    "sleep_in(True, False)"
   ]
  },
  {
   "cell_type": "code",
   "execution_count": 8,
   "metadata": {},
   "outputs": [
    {
     "data": {
      "text/plain": [
       "True"
      ]
     },
     "execution_count": 8,
     "metadata": {},
     "output_type": "execute_result"
    }
   ],
   "source": [
    "sleep_in(False, True)"
   ]
  },
  {
   "cell_type": "code",
   "execution_count": 31,
   "metadata": {},
   "outputs": [],
   "source": [
    "def string_bits(str):\n",
    "    new_str = ''\n",
    "    count = len(str)\n",
    "    for num in range(0,count):\n",
    "        if num % 2 == 0:\n",
    "            new_str += str[num]\n",
    "    return new_str"
   ]
  },
  {
   "cell_type": "code",
   "execution_count": 32,
   "metadata": {},
   "outputs": [
    {
     "data": {
      "text/plain": [
       "'Hlo'"
      ]
     },
     "execution_count": 32,
     "metadata": {},
     "output_type": "execute_result"
    }
   ],
   "source": [
    "string_bits('Hello')"
   ]
  },
  {
   "cell_type": "code",
   "execution_count": 38,
   "metadata": {},
   "outputs": [],
   "source": [
    "def string_splosion(str):\n",
    "  new_str = ''\n",
    "  for i in range(len(str) + 1):\n",
    "    new_str += str[:i]\n",
    "  return new_str"
   ]
  },
  {
   "cell_type": "code",
   "execution_count": 39,
   "metadata": {},
   "outputs": [
    {
     "data": {
      "text/plain": [
       "'CCoCodCode'"
      ]
     },
     "execution_count": 39,
     "metadata": {},
     "output_type": "execute_result"
    }
   ],
   "source": [
    "string_splosion('Code')"
   ]
  },
  {
   "cell_type": "code",
   "execution_count": 46,
   "metadata": {},
   "outputs": [],
   "source": [
    "def array_count9(nums):\n",
    "    count = 0\n",
    "    for i in nums:\n",
    "        if i == 9:\n",
    "            count += 1\n",
    "    return count"
   ]
  },
  {
   "cell_type": "code",
   "execution_count": 47,
   "metadata": {},
   "outputs": [
    {
     "data": {
      "text/plain": [
       "1"
      ]
     },
     "execution_count": 47,
     "metadata": {},
     "output_type": "execute_result"
    }
   ],
   "source": [
    "array_count9([1, 2, 9])"
   ]
  },
  {
   "cell_type": "code",
   "execution_count": 71,
   "metadata": {},
   "outputs": [],
   "source": [
    "def array_front9(nums):\n",
    "    new_nums = nums[:4]\n",
    "    status = bool\n",
    "    for num in new_nums:\n",
    "        if num == 9:\n",
    "            status = True\n",
    "            break\n",
    "        else:\n",
    "            status = False\n",
    "    return new_nums"
   ]
  },
  {
   "cell_type": "code",
   "execution_count": 72,
   "metadata": {},
   "outputs": [
    {
     "data": {
      "text/plain": [
       "[1, 2, 9, 3]"
      ]
     },
     "execution_count": 72,
     "metadata": {},
     "output_type": "execute_result"
    }
   ],
   "source": [
    "array_front9([1, 2, 9, 3, 4])"
   ]
  },
  {
   "cell_type": "code",
   "execution_count": 9,
   "metadata": {},
   "outputs": [],
   "source": [
    "def string_match(a, b):\n",
    "    count = 0\n",
    "    shorter = min(len(a), len(b))\n",
    "  \n",
    "    for i in range(0,shorter-1):\n",
    "        a_sub = a[i:i+2]\n",
    "        b_sub = b[i:i+2]\n",
    "        if a_sub == b_sub:\n",
    "            count += 1\n",
    "    return count"
   ]
  },
  {
   "cell_type": "code",
   "execution_count": 10,
   "metadata": {},
   "outputs": [
    {
     "data": {
      "text/plain": [
       "3"
      ]
     },
     "execution_count": 10,
     "metadata": {},
     "output_type": "execute_result"
    }
   ],
   "source": [
    "string_match('xxcaazz', 'xxbaaz')"
   ]
  },
  {
   "cell_type": "markdown",
   "metadata": {},
   "source": [
    "Given 2 strings, a and b, return the number of the positions where they contain the same length 2 substring. So \"xxcaazz\" and \"xxbaaz\" yields 3, since the \"xx\", \"aa\", and \"az\" substrings appear in the same place in both strings.\n",
    "\n",
    "\n",
    "string_match('xxcaazz', 'xxbaaz') → 3\n",
    "string_match('abc', 'abc') → 2\n",
    "string_match('abc', 'axc') → 0"
   ]
  },
  {
   "cell_type": "raw",
   "metadata": {},
   "source": [
    "Given 2 strings, a and b, return the number of the positions where they contain the same length 2 substring. So \"xxcaazz\" and \"xxbaaz\" yields 3, since the \"xx\", \"aa\", and \"az\" substrings appear in the same place in both strings.\n",
    "\n",
    "\n",
    "string_match('xxcaazz', 'xxbaaz') → 3\n",
    "string_match('abc', 'abc') → 2\n",
    "string_match('abc', 'axc') → 0"
   ]
  },
  {
   "cell_type": "code",
   "execution_count": 11,
   "metadata": {},
   "outputs": [
    {
     "data": {
      "text/plain": [
       "2"
      ]
     },
     "execution_count": 11,
     "metadata": {},
     "output_type": "execute_result"
    }
   ],
   "source": [
    "string_match('abc', 'abc')"
   ]
  },
  {
   "cell_type": "code",
   "execution_count": 16,
   "metadata": {},
   "outputs": [
    {
     "data": {
      "text/plain": [
       "3"
      ]
     },
     "execution_count": 16,
     "metadata": {},
     "output_type": "execute_result"
    }
   ],
   "source": [
    "string_match('iaxxai', 'aaxxaaxx')"
   ]
  },
  {
   "cell_type": "code",
   "execution_count": 17,
   "metadata": {},
   "outputs": [
    {
     "name": "stdout",
     "output_type": "stream",
     "text": [
      "ia\n",
      "aa\n",
      "ax\n",
      "ax\n",
      "xx\n",
      "xx\n",
      "xa\n",
      "xa\n",
      "ai\n",
      "aa\n"
     ]
    }
   ],
   "source": [
    "count = 0\n",
    "a = 'iaxxai'\n",
    "b = 'aaxxaaxx'\n",
    "shorter = min(len(a), len(b))\n",
    "  \n",
    "for i in range(shorter-1):\n",
    "    a_sub = a[i:i+2]\n",
    "    print(a_sub)\n",
    "    b_sub = b[i:i+2]\n",
    "    print(b_sub)\n",
    "    if a_sub == b_sub:\n",
    "        count += 1"
   ]
  },
  {
   "cell_type": "code",
   "execution_count": 42,
   "metadata": {},
   "outputs": [],
   "source": [
    "def last2(str):\n",
    "    new_str = ''\n",
    "    count = 0\n",
    "    back = str[-2:]\n",
    "    for i in range(len(str)-2):\n",
    "        if back == str[i:i+2]:\n",
    "            count += 1\n",
    "    return count"
   ]
  },
  {
   "cell_type": "code",
   "execution_count": 43,
   "metadata": {},
   "outputs": [
    {
     "data": {
      "text/plain": [
       "1"
      ]
     },
     "execution_count": 43,
     "metadata": {},
     "output_type": "execute_result"
    }
   ],
   "source": [
    "last2('hixxhi')"
   ]
  },
  {
   "cell_type": "code",
   "execution_count": 41,
   "metadata": {},
   "outputs": [
    {
     "name": "stdout",
     "output_type": "stream",
     "text": [
      "his equal tohi\n",
      "iis equal tohi\n",
      "xis equal tohi\n",
      "xis equal tohi\n"
     ]
    }
   ],
   "source": [
    "str = 'hixxhi'\n",
    "new_str = ''\n",
    "count = 0\n",
    "back = str[-2:]\n",
    "for i in range(len(str)-2):\n",
    "    if back == str[i:i+2]:\n",
    "        count += 1\n",
    "    print(str[i:i+1] + 'is equal to' + back)"
   ]
  },
  {
   "cell_type": "code",
   "execution_count": 46,
   "metadata": {},
   "outputs": [],
   "source": [
    "def array123(nums):\n",
    "    count = len(nums)\n",
    "    for i in range(count):\n",
    "        if nums[i:i+3] == [1,2,3]:\n",
    "            return True\n",
    "    return False\n"
   ]
  },
  {
   "cell_type": "code",
   "execution_count": 47,
   "metadata": {},
   "outputs": [
    {
     "data": {
      "text/plain": [
       "True"
      ]
     },
     "execution_count": 47,
     "metadata": {},
     "output_type": "execute_result"
    }
   ],
   "source": [
    "array123([1, 1, 2, 1, 2, 3])"
   ]
  },
  {
   "cell_type": "code",
   "execution_count": 55,
   "metadata": {},
   "outputs": [],
   "source": [
    "def sum_double(a, b):\n",
    "    result = a + b\n",
    "    if a == b:\n",
    "        result = 2 * result\n",
    "    return result"
   ]
  },
  {
   "cell_type": "code",
   "execution_count": 56,
   "metadata": {},
   "outputs": [
    {
     "data": {
      "text/plain": [
       "3"
      ]
     },
     "execution_count": 56,
     "metadata": {},
     "output_type": "execute_result"
    }
   ],
   "source": [
    "sum_double(1, 2)"
   ]
  },
  {
   "cell_type": "code",
   "execution_count": 7,
   "metadata": {},
   "outputs": [],
   "source": [
    "def combo_string(a, b):\n",
    "    shortest = min(a, b)\n",
    "    longest = max(a, b)\n",
    "    return shortest + longest + shortest"
   ]
  },
  {
   "cell_type": "code",
   "execution_count": 8,
   "metadata": {},
   "outputs": [
    {
     "data": {
      "text/plain": [
       "'HellohiHello'"
      ]
     },
     "execution_count": 8,
     "metadata": {},
     "output_type": "execute_result"
    }
   ],
   "source": [
    "combo_string('Hello', 'hi')"
   ]
  },
  {
   "cell_type": "code",
   "execution_count": 9,
   "metadata": {},
   "outputs": [
    {
     "data": {
      "text/plain": [
       "'HellohiHello'"
      ]
     },
     "execution_count": 9,
     "metadata": {},
     "output_type": "execute_result"
    }
   ],
   "source": [
    "combo_string('hi', 'Hello')"
   ]
  },
  {
   "cell_type": "code",
   "execution_count": 1,
   "metadata": {},
   "outputs": [],
   "source": [
    "def caught_speeding(speed, is_birthday):\n",
    "    result = 0\n",
    "    if is_birthday and speed in range(66) or not is_birthday and speed in range(61):\n",
    "        result = 0\n",
    "    elif is_birthday and speed in range(66,86) or not is_birthday and speed in range(61,81):\n",
    "        result = 1\n",
    "    else:\n",
    "        result = 2\n",
    "    return result"
   ]
  },
  {
   "cell_type": "code",
   "execution_count": 12,
   "metadata": {},
   "outputs": [
    {
     "data": {
      "text/plain": [
       "1"
      ]
     },
     "execution_count": 12,
     "metadata": {},
     "output_type": "execute_result"
    }
   ],
   "source": [
    "caught_speeding(80, False)"
   ]
  },
  {
   "cell_type": "code",
   "execution_count": 7,
   "metadata": {},
   "outputs": [],
   "source": [
    "def make_bricks(small, big, goal):\n",
    "    result = bool\n",
    "    if 5 + small >= goal or (big * 5) <= goal:\n",
    "        result = True\n",
    "    else:\n",
    "        result = False\n",
    "    return result"
   ]
  },
  {
   "cell_type": "code",
   "execution_count": 8,
   "metadata": {},
   "outputs": [
    {
     "data": {
      "text/plain": [
       "False"
      ]
     },
     "execution_count": 8,
     "metadata": {},
     "output_type": "execute_result"
    }
   ],
   "source": [
    "make_bricks(3, 2, 9)"
   ]
  },
  {
   "cell_type": "code",
   "execution_count": 1,
   "metadata": {},
   "outputs": [],
   "source": [
    "# Given 3 int values, a b c, return their sum. However, if one of the values is the same as \n",
    "# another of the values, it does not count towards the sum. --> My Solution!\n",
    "def lone_sum(a, b, c):\n",
    "    if a == b and a == c or b == c and b == a:\n",
    "        return 0\n",
    "    elif a == b:\n",
    "        return c\n",
    "    elif b == c:\n",
    "        return a\n",
    "    elif c == a:\n",
    "        return b\n",
    "    else:\n",
    "        return a + b + c"
   ]
  },
  {
   "cell_type": "code",
   "execution_count": 5,
   "metadata": {},
   "outputs": [
    {
     "data": {
      "text/plain": [
       "14"
      ]
     },
     "execution_count": 5,
     "metadata": {},
     "output_type": "execute_result"
    }
   ],
   "source": [
    "lone_sum(9,4,1)"
   ]
  },
  {
   "cell_type": "code",
   "execution_count": 6,
   "metadata": {},
   "outputs": [],
   "source": [
    "# Given 3 int values, a b c, return their sum. However, if one of the values is the same as \n",
    "# another of the values, it does not count towards the sum.  CodingBat Solution!\n",
    "def lone_sum(a, b, c):\n",
    "    sum = 0\n",
    "    if a != b and a != c:\n",
    "        sum += a\n",
    "    if b != a and b != c:\n",
    "        sum += b\n",
    "    if c != a and c != b:\n",
    "        sum += c\n",
    "    return sum"
   ]
  },
  {
   "cell_type": "code",
   "execution_count": 8,
   "metadata": {},
   "outputs": [
    {
     "data": {
      "text/plain": [
       "4"
      ]
     },
     "execution_count": 8,
     "metadata": {},
     "output_type": "execute_result"
    }
   ],
   "source": [
    "lone_sum(1,4,1)"
   ]
  },
  {
   "cell_type": "code",
   "execution_count": 10,
   "metadata": {},
   "outputs": [],
   "source": [
    "# We want to make a row of bricks that is goal inches long. We have a number of small \n",
    "# bricks (1 inch each) and big bricks (5 inches each). Return True if it is possible \n",
    "# to make the goal by choosing from the given bricks. This is a little harder than it \n",
    "# looks and can be done without any loops. My Solution!!!\n",
    "# Examples\n",
    "# make_bricks(3, 1, 8) → True\n",
    "# make_bricks(3, 1, 9) → False\n",
    "# make_bricks(3, 2, 10) → True\n",
    "def make_bricks(small, big, goal):\n",
    "    result = bool\n",
    "    if big == 0 and small < goal:\n",
    "        result = False\n",
    "    elif goal % 5 > small or (big * 5) + small < goal:\n",
    "        result = False\n",
    "    elif (big * 5) + small >= goal:\n",
    "        result = True\n",
    "    else:\n",
    "        result = True\n",
    "    return result"
   ]
  },
  {
   "cell_type": "code",
   "execution_count": 11,
   "metadata": {},
   "outputs": [
    {
     "data": {
      "text/plain": [
       "True"
      ]
     },
     "execution_count": 11,
     "metadata": {},
     "output_type": "execute_result"
    }
   ],
   "source": [
    "make_bricks(3, 1, 8)"
   ]
  },
  {
   "cell_type": "code",
   "execution_count": 12,
   "metadata": {},
   "outputs": [
    {
     "data": {
      "text/plain": [
       "False"
      ]
     },
     "execution_count": 12,
     "metadata": {},
     "output_type": "execute_result"
    }
   ],
   "source": [
    "make_bricks(3, 1, 9)"
   ]
  },
  {
   "cell_type": "code",
   "execution_count": 13,
   "metadata": {},
   "outputs": [
    {
     "data": {
      "text/plain": [
       "True"
      ]
     },
     "execution_count": 13,
     "metadata": {},
     "output_type": "execute_result"
    }
   ],
   "source": [
    "make_bricks(3, 2, 10)"
   ]
  },
  {
   "cell_type": "code",
   "execution_count": 20,
   "metadata": {},
   "outputs": [],
   "source": [
    "def round_sum(a, b, c):\n",
    "    def round10(num):\n",
    "        return round(num, -1)\n",
    "    sum = round10(a) + round10(b) + round10(c)\n",
    "    return sum"
   ]
  },
  {
   "cell_type": "code",
   "execution_count": 21,
   "metadata": {},
   "outputs": [
    {
     "data": {
      "text/plain": [
       "60"
      ]
     },
     "execution_count": 21,
     "metadata": {},
     "output_type": "execute_result"
    }
   ],
   "source": [
    "round_sum(16, 17, 18)"
   ]
  },
  {
   "cell_type": "code",
   "execution_count": 22,
   "metadata": {},
   "outputs": [
    {
     "data": {
      "text/plain": [
       "0"
      ]
     },
     "execution_count": 22,
     "metadata": {},
     "output_type": "execute_result"
    }
   ],
   "source": [
    "round_sum(0, 0, 1)"
   ]
  },
  {
   "cell_type": "code",
   "execution_count": 23,
   "metadata": {},
   "outputs": [
    {
     "data": {
      "text/plain": [
       "90"
      ]
     },
     "execution_count": 23,
     "metadata": {},
     "output_type": "execute_result"
    }
   ],
   "source": [
    "round_sum(45, 21, 30)"
   ]
  },
  {
   "cell_type": "code",
   "execution_count": 3,
   "metadata": {},
   "outputs": [],
   "source": [
    "# For this problem, we'll round an int value up to the next multiple of 10 if its rightmost digit is \n",
    "# 5 or more, so 15 rounds up to 20. Alternately, round down to the previous multiple of 10 if its \n",
    "# rightmost digit is less than 5, so 12 rounds down to 10. Given 3 ints, a b c, return the sum of \n",
    "# their rounded values. To avoid code repetition, write a separate helper \"def round10(num):\" and \n",
    "# call it 3 times. Write the helper entirely below and at the same indent level as round_sum(). My Solution!!!\n",
    "# Examples\n",
    "# round_sum(16, 17, 18) → 60\n",
    "# round_sum(12, 13, 14) → 30\n",
    "# round_sum(6, 4, 4) → 10\n",
    "\n",
    "def round_sum(a, b, c):\n",
    "    def round10(num):\n",
    "        if num % 10 >= 5:\n",
    "            num = num + (10 - abs(num % 10))\n",
    "        else:\n",
    "            num = num - (abs(num % 10))\n",
    "        return num\n",
    "    sum = round10(a) + round10(b) + round10(c)\n",
    "    return sum"
   ]
  },
  {
   "cell_type": "code",
   "execution_count": 4,
   "metadata": {},
   "outputs": [
    {
     "data": {
      "text/plain": [
       "100"
      ]
     },
     "execution_count": 4,
     "metadata": {},
     "output_type": "execute_result"
    }
   ],
   "source": [
    "round_sum(45, 21, 30)"
   ]
  },
  {
   "cell_type": "code",
   "execution_count": 1,
   "metadata": {},
   "outputs": [],
   "source": [
    "# We want make a package of goal kilos of chocolate. We have small bars (1 kilo each) \n",
    "# and big bars (5 kilos each). Return the number of small bars to use, assuming we \n",
    "# always use big bars before small bars. Return -1 if it can't be done.\n",
    "\n",
    "# Examples:\n",
    "# make_chocolate(4, 1, 9) → 4\n",
    "# make_chocolate(4, 1, 10) → -1\n",
    "# make_chocolate(4, 1, 7) → 2\n",
    "\n",
    "def make_chocolate(small, big, goal):\n",
    "    bg_needs = int(goal / 5)\n",
    "    sm_needs = goal - (bg_needs * 5)\n",
    "    if bg_needs <= big and sm_needs <= small:\n",
    "        return goal - (bg_needs * 5)\n",
    "    elif bg_needs > big and small >= goal - (big * 5):\n",
    "        return goal - (big * 5)\n",
    "    else:\n",
    "        return -1"
   ]
  },
  {
   "cell_type": "code",
   "execution_count": 5,
   "metadata": {},
   "outputs": [
    {
     "data": {
      "text/plain": [
       "50"
      ]
     },
     "execution_count": 5,
     "metadata": {},
     "output_type": "execute_result"
    }
   ],
   "source": [
    "make_chocolate(60, 100, 550)"
   ]
  },
  {
   "cell_type": "code",
   "execution_count": 6,
   "metadata": {},
   "outputs": [],
   "source": [
    "# Return the number of times that the string \"hi\" appears anywhere in the given string.\n",
    "\n",
    "# Examples:\n",
    "# count_hi('abc hi ho') → 1\n",
    "# count_hi('ABChi hi') → 2\n",
    "# count_hi('hihi') → 2\n",
    "\n",
    "def count_hi(str):\n",
    "    count = 0\n",
    "    for i in range(len(str)):\n",
    "        if str[i:i+2] == 'hi':\n",
    "            count += 1\n",
    "    return count"
   ]
  },
  {
   "cell_type": "code",
   "execution_count": 9,
   "metadata": {},
   "outputs": [
    {
     "data": {
      "text/plain": [
       "2"
      ]
     },
     "execution_count": 9,
     "metadata": {},
     "output_type": "execute_result"
    }
   ],
   "source": [
    "count_hi('hihi')"
   ]
  },
  {
   "cell_type": "code",
   "execution_count": 1,
   "metadata": {},
   "outputs": [],
   "source": [
    "# Return True if the string \"cat\" and \"dog\" appear the same number of times in the given string.\n",
    "\n",
    "# Examples:\n",
    "# cat_dog('catdog') → True\n",
    "# cat_dog('catcat') → False\n",
    "# cat_dog('1cat1cadodog') → True\n",
    "\n",
    "def cat_dog(str):\n",
    "    cat = 0\n",
    "    dog = 0\n",
    "    for l in range(len(str)):\n",
    "        if 'cat' == str[l:l+3]:\n",
    "            cat += 1\n",
    "        if 'dog' in str[l:l+3]:\n",
    "            dog += 1\n",
    "    if cat == dog:\n",
    "        return True\n",
    "    else:\n",
    "        return False"
   ]
  },
  {
   "cell_type": "code",
   "execution_count": 3,
   "metadata": {},
   "outputs": [
    {
     "data": {
      "text/plain": [
       "True"
      ]
     },
     "execution_count": 3,
     "metadata": {},
     "output_type": "execute_result"
    }
   ],
   "source": [
    "cat_dog('catxdogxdogxcat')"
   ]
  },
  {
   "cell_type": "code",
   "execution_count": 6,
   "metadata": {},
   "outputs": [],
   "source": [
    "str1 = 'aaacodebbb'"
   ]
  },
  {
   "cell_type": "code",
   "execution_count": 7,
   "metadata": {},
   "outputs": [
    {
     "data": {
      "text/plain": [
       "range(0, 10)"
      ]
     },
     "execution_count": 7,
     "metadata": {},
     "output_type": "execute_result"
    }
   ],
   "source": [
    "range(len(str1))"
   ]
  },
  {
   "cell_type": "code",
   "execution_count": 8,
   "metadata": {},
   "outputs": [],
   "source": [
    "# Return the number of times that the string \"code\" appears anywhere in the given string, except \n",
    "# we'll accept any letter for the 'd', so \"cope\" and \"cooe\" count.\n",
    "\n",
    "# Examples:\n",
    "# count_code('aaacodebbb') → 1\n",
    "# count_code('codexxcode') → 2\n",
    "# count_code('cozexxcope') → 2\n",
    "\n",
    "def count_code(str):\n",
    "    count = 0\n",
    "    for l in range(len(str)):\n",
    "        if 'co' == str[l:l+2] and 'e' == str[l+3:l+4]:\n",
    "            count += 1\n",
    "    return count"
   ]
  },
  {
   "cell_type": "code",
   "execution_count": 11,
   "metadata": {},
   "outputs": [
    {
     "data": {
      "text/plain": [
       "2"
      ]
     },
     "execution_count": 11,
     "metadata": {},
     "output_type": "execute_result"
    }
   ],
   "source": [
    "count_code('cozexxcope')"
   ]
  },
  {
   "cell_type": "code",
   "execution_count": 34,
   "metadata": {},
   "outputs": [],
   "source": [
    "a = 'AbC'\n",
    "b = 'HiaBc'\n",
    "a_len = len(a)\n",
    "b_len = len(b)"
   ]
  },
  {
   "cell_type": "code",
   "execution_count": 40,
   "metadata": {},
   "outputs": [
    {
     "data": {
      "text/plain": [
       "'AbC'"
      ]
     },
     "execution_count": 40,
     "metadata": {},
     "output_type": "execute_result"
    }
   ],
   "source": [
    "a"
   ]
  },
  {
   "cell_type": "code",
   "execution_count": 38,
   "metadata": {},
   "outputs": [
    {
     "data": {
      "text/plain": [
       "'abc'"
      ]
     },
     "execution_count": 38,
     "metadata": {},
     "output_type": "execute_result"
    }
   ],
   "source": [
    "b[b_len-a_len:b_len:1].lower()"
   ]
  },
  {
   "cell_type": "code",
   "execution_count": 41,
   "metadata": {},
   "outputs": [],
   "source": [
    "# Given two strings, return True if either of the strings appears at the very end of the other string,\n",
    "# ignoring upper/lower case differences (in other words, the computation should not be \"case sensitive\"). \n",
    "# Note: s.lower() returns the lowercase version of a string.\n",
    "\n",
    "# Examples:\n",
    "# end_other('Hiabc', 'abc') → True\n",
    "# end_other('AbC', 'HiaBc') → True\n",
    "# end_other('abc', 'abXabc') → True\n",
    "# My solution:\n",
    "def end_other(a, b):\n",
    "    a_len = len(a)\n",
    "    b_len = len(b)\n",
    "    if a.lower() in b[b_len-a_len:b_len:1].lower():\n",
    "        return True\n",
    "    if b.lower() in a[a_len-b_len:a_len:1].lower():\n",
    "        return True\n",
    "    else:\n",
    "        return False\n",
    "\n",
    "# Codingbat solution:\n",
    "def end_other(a, b):\n",
    "    a_l = a.lower()\n",
    "    b_l = b.lower()\n",
    "    if a_l.endswith(b_l):\n",
    "        return True\n",
    "    if b_l.endswith(a_l):\n",
    "        return True\n",
    "    else:\n",
    "        return False"
   ]
  },
  {
   "cell_type": "code",
   "execution_count": 43,
   "metadata": {},
   "outputs": [],
   "source": [
    "str = 'abc.xyz'\n",
    "s_len = len(str)"
   ]
  },
  {
   "cell_type": "code",
   "execution_count": 44,
   "metadata": {},
   "outputs": [
    {
     "data": {
      "text/plain": [
       "7"
      ]
     },
     "execution_count": 44,
     "metadata": {},
     "output_type": "execute_result"
    }
   ],
   "source": [
    "s_len"
   ]
  },
  {
   "cell_type": "code",
   "execution_count": 45,
   "metadata": {},
   "outputs": [
    {
     "data": {
      "text/plain": [
       "'a'"
      ]
     },
     "execution_count": 45,
     "metadata": {},
     "output_type": "execute_result"
    }
   ],
   "source": [
    "str[0:1]"
   ]
  },
  {
   "cell_type": "code",
   "execution_count": 12,
   "metadata": {},
   "outputs": [],
   "source": [
    "# Return the \"centered\" average of an array of ints, which we'll say is the \n",
    "# mean average of the values, except ignoring the largest and smallest values\n",
    "# in the array. If there are multiple copies of the smallest value, ignore \n",
    "# just one copy, and likewise for the largest value. Use int division to \n",
    "# produce the final average. You may assume that the array is length 3 or more.\n",
    "\n",
    "# Examples:\n",
    "# centered_average([1, 2, 3, 4, 100]) → 3\n",
    "# centered_average([1, 1, 5, 5, 10, 8, 7]) → 5\n",
    "# centered_average([-10, -4, -2, -4, -2, 0]) → -3\n",
    "\n",
    "def centered_average(nums):\n",
    "    count = 0\n",
    "    subtotal = 0.0\n",
    "    nums.sort()\n",
    "    nums.pop(0)\n",
    "    nums.pop()\n",
    "    for num in nums:\n",
    "        subtotal += num\n",
    "        count += 1\n",
    "    return int(subtotal / count)"
   ]
  },
  {
   "cell_type": "code",
   "execution_count": 15,
   "metadata": {},
   "outputs": [
    {
     "data": {
      "text/plain": [
       "-3"
      ]
     },
     "execution_count": 15,
     "metadata": {},
     "output_type": "execute_result"
    }
   ],
   "source": [
    "centered_average([-10, -4, -2, -4, -2, 0])"
   ]
  },
  {
   "cell_type": "code",
   "execution_count": 216,
   "metadata": {},
   "outputs": [
    {
     "data": {
      "text/plain": [
       "7"
      ]
     },
     "execution_count": 216,
     "metadata": {},
     "output_type": "execute_result"
    }
   ],
   "source": [
    "nums = [13, 1, 2, 13, 2, 1, 13]\n",
    "len(nums)"
   ]
  },
  {
   "cell_type": "code",
   "execution_count": 10,
   "metadata": {},
   "outputs": [
    {
     "name": "stdout",
     "output_type": "stream",
     "text": [
      "Index:  0  Number:  13\n",
      "13\n"
     ]
    }
   ],
   "source": [
    "nums = [13, 1, 13]\n",
    "new_sum = 0\n",
    "for i, v in enumerate(nums):\n",
    "    print('Index: ', i, ' Number: ', v )\n",
    "    if v == 13:\n",
    "        del nums[i:i+2]\n",
    "    new_sum = sum(nums)\n",
    "print(new_sum)"
   ]
  },
  {
   "cell_type": "code",
   "execution_count": 186,
   "metadata": {},
   "outputs": [
    {
     "name": "stdout",
     "output_type": "stream",
     "text": [
      "13\n"
     ]
    }
   ],
   "source": [
    "nums = [13, 1, 13]\n",
    "new_sum = 0\n",
    "idx = nums.index(13)\n",
    "for num in nums:\n",
    "    if num == 13:\n",
    "        del nums[idx:idx+2]\n",
    "new_sum = sum(nums)\n",
    "print(new_sum)"
   ]
  },
  {
   "cell_type": "code",
   "execution_count": 11,
   "metadata": {},
   "outputs": [],
   "source": [
    "# Return the sum of the numbers in the array, returning 0 for an empty array. Except the number 13 is very unlucky, \n",
    "# so it does not count and numbers that come immediately after a 13 also do not count.\n",
    "\n",
    "# Exercises:\n",
    "# sum13([1, 2, 2, 1]) → 6\n",
    "# sum13([1, 1]) → 2\n",
    "# sum13([1, 2, 2, 1, 13]) → 6\n",
    "\n",
    "def sum13(nums):\n",
    "    new_sum = 0\n",
    "    length = len(nums)\n",
    "    i = 0\n",
    "    while i < length:\n",
    "        if nums[i] == 13:\n",
    "            del nums[i:i+2]\n",
    "            length = len(nums)\n",
    "        else:\n",
    "            i += 1\n",
    "    new_sum = sum(nums)\n",
    "    return new_sum"
   ]
  },
  {
   "cell_type": "code",
   "execution_count": 16,
   "metadata": {},
   "outputs": [
    {
     "data": {
      "text/plain": [
       "4"
      ]
     },
     "execution_count": 16,
     "metadata": {},
     "output_type": "execute_result"
    }
   ],
   "source": [
    "sum13([1, 2, 13, 2, 1, 13])"
   ]
  },
  {
   "cell_type": "code",
   "execution_count": 1,
   "metadata": {},
   "outputs": [
    {
     "data": {
      "text/plain": [
       "0"
      ]
     },
     "execution_count": 1,
     "metadata": {},
     "output_type": "execute_result"
    }
   ],
   "source": [
    "3 % 3"
   ]
  },
  {
   "cell_type": "code",
   "execution_count": 5,
   "metadata": {},
   "outputs": [],
   "source": [
    "# Write a Python function that checks whether a passed in string is palindrome or not.  Note: A palindrome is a word, \n",
    "# phrase, or sequence that reads the same backward as forward, e.g., madam or nurses run.\n",
    "# My solution:  Works on all palindromes.\n",
    "def palindrome(s):\n",
    "    new_s = s.replace(\" \", \"\")\n",
    "    length = len(new_s)\n",
    "    midway = 0\n",
    "    result = False\n",
    "    if length % 2 == 0:\n",
    "        midway = int(length / 2)\n",
    "        if new_s[0:midway] == new_s[length:midway - 1:-1]:\n",
    "            result = True\n",
    "    else:\n",
    "        midway = int(length / 2) + 1\n",
    "        if new_s[0:midway] == new_s[length:midway - 2:-1]:\n",
    "            result = True\n",
    "    return result"
   ]
  },
  {
   "cell_type": "code",
   "execution_count": 6,
   "metadata": {},
   "outputs": [
    {
     "data": {
      "text/plain": [
       "True"
      ]
     },
     "execution_count": 6,
     "metadata": {},
     "output_type": "execute_result"
    }
   ],
   "source": [
    "palindrome('nurses run')"
   ]
  },
  {
   "cell_type": "code",
   "execution_count": 7,
   "metadata": {},
   "outputs": [],
   "source": [
    "# Write a Python function that checks whether a passed in string is palindrome or not.  Note: A palindrome is a word, \n",
    "# phrase, or sequence that reads the same backward as forward, e.g., madam or nurses run.\n",
    "# Course Solution:  Does not work on nurses run.\n",
    "def palindrome(s):\n",
    "    return s == s[::-1]"
   ]
  },
  {
   "cell_type": "code",
   "execution_count": 8,
   "metadata": {},
   "outputs": [
    {
     "data": {
      "text/plain": [
       "False"
      ]
     },
     "execution_count": 8,
     "metadata": {},
     "output_type": "execute_result"
    }
   ],
   "source": [
    "palindrome('nurses run')"
   ]
  },
  {
   "cell_type": "code",
   "execution_count": 9,
   "metadata": {},
   "outputs": [],
   "source": [
    "# **Write a Python function to check whether a string is pangram or not.**  Note : Pangrams are words or sentences \n",
    "# containing every letter of the alphabet at least once.  For example : \"The quick brown fox jumps over the lazy dog\"\n",
    "# Hint: Look at the string module\n",
    "# My Solution:  Works on all pangrams.\n",
    "import string\n",
    "\n",
    "def ispangram(str1, alphabet=string.ascii_lowercase):\n",
    "    result = False\n",
    "    for letter in str1.lower():\n",
    "        if letter in alphabet:\n",
    "            alphabet = alphabet.replace(letter,\"\")\n",
    "    if alphabet == \"\":\n",
    "        result = True\n",
    "    return result"
   ]
  },
  {
   "cell_type": "code",
   "execution_count": 10,
   "metadata": {},
   "outputs": [
    {
     "data": {
      "text/plain": [
       "True"
      ]
     },
     "execution_count": 10,
     "metadata": {},
     "output_type": "execute_result"
    }
   ],
   "source": [
    "ispangram(\"The quick brown fox jumps over the lazy dog\")"
   ]
  },
  {
   "cell_type": "code",
   "execution_count": 11,
   "metadata": {},
   "outputs": [],
   "source": [
    "# **Write a Python function to check whether a string is pangram or not.**  Note : Pangrams are words or sentences \n",
    "# containing every letter of the alphabet at least once.  For example : \"The quick brown fox jumps over the lazy dog\"\n",
    "# Hint: Look at the string module\n",
    "# Course Solution:  Works on all pangrams.\n",
    "import string\n",
    "\n",
    "def ispangram(str1, alphabet=string.ascii_lowercase):\n",
    "    alphaset = set(alphabet)\n",
    "    return alphaset <= set(str1.lower())"
   ]
  },
  {
   "cell_type": "code",
   "execution_count": 14,
   "metadata": {},
   "outputs": [
    {
     "data": {
      "text/plain": [
       "True"
      ]
     },
     "execution_count": 14,
     "metadata": {},
     "output_type": "execute_result"
    }
   ],
   "source": [
    "ispangram(\"Exquisite farm wench gives body jolt to prize stinker\")"
   ]
  },
  {
   "cell_type": "code",
   "execution_count": 6,
   "metadata": {},
   "outputs": [
    {
     "name": "stdout",
     "output_type": "stream",
     "text": [
      "792759825 "
     ]
    }
   ],
   "source": [
    "def print_time(x,y,n):\n",
    "    count = 0\n",
    "    time_x = time_y = 0\n",
    "    for j in range(n):\n",
    "        if count != n and x < y:\n",
    "            time_x += x * (y/x)\n",
    "            time_y += y\n",
    "            count += y/x + 1\n",
    "        elif count != n and y < x:\n",
    "            time_x += x\n",
    "            time_y += y * (x/y)\n",
    "            count += x/y + 1\n",
    "        else:\n",
    "            break\n",
    "    if time_x < time_y:\n",
    "        return int(time_x)\n",
    "    else:\n",
    "        return int(time_y)\n",
    "\n",
    "data = [ 14413815, 2333435, 55 ]\n",
    "for i in range(0,len(data),3):\n",
    "    print(print_time(data[i],data[i+1],data[i+2]), end=' ')"
   ]
  },
  {
   "cell_type": "code",
   "execution_count": null,
   "metadata": {},
   "outputs": [],
   "source": []
  }
 ],
 "metadata": {
  "kernelspec": {
   "display_name": "Python 3",
   "language": "python",
   "name": "python3"
  },
  "language_info": {
   "codemirror_mode": {
    "name": "ipython",
    "version": 3
   },
   "file_extension": ".py",
   "mimetype": "text/x-python",
   "name": "python",
   "nbconvert_exporter": "python",
   "pygments_lexer": "ipython3",
   "version": "3.7.0"
  }
 },
 "nbformat": 4,
 "nbformat_minor": 2
}
