{
 "cells": [
  {
   "cell_type": "code",
   "execution_count": null,
   "metadata": {},
   "outputs": [],
   "source": [
    "# Problem 1\n",
    "def sum_two(a,b):\n",
    "    print(a + b)\n",
    "    \n",
    "sum_two(11844,3091)"
   ]
  },
  {
   "cell_type": "code",
   "execution_count": null,
   "metadata": {},
   "outputs": [],
   "source": [
    "# Problem 2\n",
    "def sum_nums(*args):\n",
    "    result = 0\n",
    "    for arg in args:\n",
    "        result += arg\n",
    "    return result\n",
    "\n",
    "total = sum_nums(840, 1226, 1253, 796, 426, 1205, 956, 571, 750, 154, 567, 784, 743, 1013, 1135, 1276, 769, 171, 1029, 1048, 860, 1247, 111, 595, 775, 1174, 982, 1039, 1188, 499)\n",
    "print(total)"
   ]
  },
  {
   "cell_type": "code",
   "execution_count": null,
   "metadata": {},
   "outputs": [],
   "source": [
    "# Problem 3\n",
    "def sum_two(a,b):\n",
    "    return(a + b)\n",
    "    \n",
    "numbers = [(100, 8), (15, 245), (1945, 54)]\n",
    "for a,b in numbers:\n",
    "    print(sum_two(a,b), end=\" \")"
   ]
  },
  {
   "cell_type": "code",
   "execution_count": null,
   "metadata": {},
   "outputs": [],
   "source": [
    "# Problem 3 version 2\n",
    "def sum_two(a,b):\n",
    "    return(a + b)\n",
    "    \n",
    "numbers = [(607706, 633129), (93167, 508088), (585704, 273510), (41556, 91548), (695208, 178302), (630518, 788307), (80203, 817201), (990525, 293351), (622702, 150426), (888487, 472902), (154072, 919985), (855784, 216532), (739758, 887076), (834782, 728077), (364554, 942268)]\n",
    "for a,b in numbers:\n",
    "    print(sum_two(a,b), end=\" \")"
   ]
  },
  {
   "cell_type": "code",
   "execution_count": null,
   "metadata": {},
   "outputs": [],
   "source": [
    "# Problem 4\n",
    "def min_two(a,b):\n",
    "    if a < b:\n",
    "        return a\n",
    "    else:\n",
    "        return b\n",
    "    \n",
    "nums = [(5, 3), (2, 8), (100, 15)]\n",
    "for a,b in nums:\n",
    "    print(min_two(a,b),end=\" \")"
   ]
  },
  {
   "cell_type": "code",
   "execution_count": null,
   "metadata": {},
   "outputs": [],
   "source": [
    "# Problem 4 version 2\n",
    "def min_two(a,b):\n",
    "    if a < b:\n",
    "        return a\n",
    "    else:\n",
    "        return b\n",
    "    \n",
    "nums = [(-4701461, 2438347), (-6419839, -9265785), (-9416514, 1941972), (7760385, -9504592), (-7373062, -9883059), (-9288455, -7633798), (8755771, 5122744), (-396523, 9699109), (-2335569, 7862153), (-805761, -5667539), (6179704, 1601317), (-8470538, 6064478), (-9197676, -8340157), (3146228, -4962477), (5939673, 9548043), (-1417374, -8761788), (1986391, 2162787), (-8027573, 2569877), (-5895240, 9732812), (3065285, -3268303), (9849753, 3776830)]\n",
    "for a,b in nums:\n",
    "    print(min_two(a,b),end=\" \")"
   ]
  },
  {
   "cell_type": "code",
   "execution_count": null,
   "metadata": {},
   "outputs": [],
   "source": [
    "# Problem 5\n",
    "def min_three(a,b,c):\n",
    "    if a < b and a < c:\n",
    "        return a\n",
    "    elif c < a and c < b:\n",
    "        return c\n",
    "    else:\n",
    "        return b\n",
    "    \n",
    "nums = [(7, 3, 5), (15, 20, 40), (300, 550, 137)]\n",
    "for a,b,c in nums:\n",
    "    print(min_three(a,b,c),end=\" \")"
   ]
  },
  {
   "cell_type": "code",
   "execution_count": null,
   "metadata": {},
   "outputs": [],
   "source": [
    "# Problem 5 version 2\n",
    "def min_three(a,b,c):\n",
    "    return min(a,b,c)\n",
    "    \n",
    "nums = [(7, 3, 5), (15, 20, 40), (300, 550, 137)]\n",
    "for a,b,c in nums:\n",
    "    print(min_three(a,b,c),end=\" \")"
   ]
  },
  {
   "cell_type": "code",
   "execution_count": null,
   "metadata": {},
   "outputs": [],
   "source": [
    "# Problem 22\n",
    "def two_prnt(x,y,n):\n",
    "    time = 0\n",
    "    pages = 0\n",
    "    f_time = 0\n",
    "    s_time = 0\n",
    "    faster = 0\n",
    "    slower = 0\n",
    "    max_time = 0\n",
    "    if x < y:\n",
    "        faster = x\n",
    "        slower = y\n",
    "        max_time = slower * n\n",
    "    elif y < x:\n",
    "        faster = y\n",
    "        slower = x\n",
    "        max_time = slower * n\n",
    "    else:\n",
    "        slower = x\n",
    "        faster = y\n",
    "        max_time = (slower + 1) * n\n",
    "    for i in range(1, max_time):\n",
    "        if pages >= n:\n",
    "            time = max(f_time,s_time)\n",
    "            break\n",
    "        else:\n",
    "            if i % faster == 0:\n",
    "                pages += 1\n",
    "                f_time += faster\n",
    "            if i % slower == 0:\n",
    "                pages += 1\n",
    "                s_time += slower\n",
    "    return time\n",
    "\n",
    "grps = ([105684995, 96944250, 8], [12, 88, 10647638], [1, 1, 927175744], [4979224, 7901223, 94], [388996, 376949, 772], [90334, 23099, 5050], [705, 2744, 294119], [68, 3504, 215562], [6, 8, 85993693], [1, 1, 658189901], [760, 995, 749854], [1288, 2455, 379320], [3, 2, 78874497], [407746, 1383237, 680], [2, 2, 484393235], [52, 73, 7621777])\n",
    "for a,b,c in grps:\n",
    "    print(two_prnt(a,b,c), end=\" \")"
   ]
  },
  {
   "cell_type": "code",
   "execution_count": 1,
   "metadata": {},
   "outputs": [
    {
     "name": "stdout",
     "output_type": "stream",
     "text": [
      "42 5931965 "
     ]
    }
   ],
   "source": [
    "# Problem 23\n",
    "def array_chksm(args):\n",
    "    result = 0\n",
    "    value = 113\n",
    "    modulo = 10000007\n",
    "    for num in range(len(args)):\n",
    "        result = (((args[num] + result) * value) % modulo)\n",
    "    return (result)\n",
    " \n",
    "data = [9536, 97, 43912, 800, 79, 8, 1875, 68, 80, 1, 817, 2502, 15749, 32, 2, 7, 6, 1226, 23801, 21770, 0, 68509, 24, 52, 4, 5584, 4, 12045, 115, 565, 61, 43, 10, 151, 5, 17, 354, 75705, 220, 63, 901, 8, 100, 80182, 3, 41, 62195, -1]\n",
    "swaps = 0\n",
    "for i in range(len(data)-1):\n",
    "    if data[i] > data[i+1] and data[i+1] != -1:\n",
    "        data[i], data[i+1] = data[i+1], data[i]\n",
    "        swaps += 1\n",
    "    else:\n",
    "        continue\n",
    "data.pop()\n",
    "print(swaps, array_chksm(data), end=\" \")"
   ]
  },
  {
   "cell_type": "code",
   "execution_count": null,
   "metadata": {},
   "outputs": [],
   "source": []
  }
 ],
 "metadata": {
  "kernelspec": {
   "display_name": "Python 3",
   "language": "python",
   "name": "python3"
  },
  "language_info": {
   "codemirror_mode": {
    "name": "ipython",
    "version": 3
   },
   "file_extension": ".py",
   "mimetype": "text/x-python",
   "name": "python",
   "nbconvert_exporter": "python",
   "pygments_lexer": "ipython3",
   "version": "3.7.2"
  }
 },
 "nbformat": 4,
 "nbformat_minor": 2
}
