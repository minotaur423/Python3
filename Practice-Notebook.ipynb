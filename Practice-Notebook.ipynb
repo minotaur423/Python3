{
 "cells": [
  {
   "cell_type": "markdown",
   "metadata": {},
   "source": [
    "1. Sum \"A+B\""
   ]
  },
  {
   "cell_type": "code",
   "execution_count": 2,
   "metadata": {},
   "outputs": [
    {
     "name": "stdout",
     "output_type": "stream",
     "text": [
      "14935\n"
     ]
    }
   ],
   "source": [
    "def sum_two(a,b):\n",
    "    print(a + b)\n",
    "    \n",
    "sum_two(11844,3091)"
   ]
  },
  {
   "cell_type": "markdown",
   "metadata": {},
   "source": [
    "2. Sum in Loop"
   ]
  },
  {
   "cell_type": "code",
   "execution_count": 4,
   "metadata": {},
   "outputs": [
    {
     "name": "stdout",
     "output_type": "stream",
     "text": [
      "25182\n"
     ]
    }
   ],
   "source": [
    "def sum_nums(*args):\n",
    "    result = 0\n",
    "    for arg in args:\n",
    "        result += arg\n",
    "    return result\n",
    "\n",
    "total = sum_nums(840, 1226, 1253, 796, 426, 1205, 956, 571, 750, 154, 567, 784, 743, 1013, 1135, 1276, 769, 171, 1029, 1048, 860, 1247, 111, 595, 775, 1174, 982, 1039, 1188, 499)\n",
    "print(total)"
   ]
  },
  {
   "cell_type": "markdown",
   "metadata": {},
   "source": [
    "3. Sums in Loop"
   ]
  },
  {
   "cell_type": "code",
   "execution_count": 8,
   "metadata": {},
   "outputs": [
    {
     "name": "stdout",
     "output_type": "stream",
     "text": [
      "108 260 1999 "
     ]
    }
   ],
   "source": [
    "def sum_two(a,b):\n",
    "    return(a + b)\n",
    "    \n",
    "numbers = [(100, 8), (15, 245), (1945, 54)]\n",
    "for a,b in numbers:\n",
    "    print(sum_two(a,b), end=\" \")"
   ]
  },
  {
   "cell_type": "code",
   "execution_count": 9,
   "metadata": {},
   "outputs": [
    {
     "name": "stdout",
     "output_type": "stream",
     "text": [
      "1240835 601255 859214 133104 873510 1418825 897404 1283876 773128 1361389 1074057 1072316 1626834 1562859 1306822 "
     ]
    }
   ],
   "source": [
    "def sum_two(a,b):\n",
    "    return(a + b)\n",
    "    \n",
    "numbers = [(607706, 633129), (93167, 508088), (585704, 273510), (41556, 91548), (695208, 178302), (630518, 788307), (80203, 817201), (990525, 293351), (622702, 150426), (888487, 472902), (154072, 919985), (855784, 216532), (739758, 887076), (834782, 728077), (364554, 942268)]\n",
    "for a,b in numbers:\n",
    "    print(sum_two(a,b), end=\" \")"
   ]
  },
  {
   "cell_type": "markdown",
   "metadata": {},
   "source": [
    "4. Minimum of Two"
   ]
  },
  {
   "cell_type": "code",
   "execution_count": 3,
   "metadata": {},
   "outputs": [
    {
     "name": "stdout",
     "output_type": "stream",
     "text": [
      "3 2 15 "
     ]
    }
   ],
   "source": [
    "def min_two(a,b):\n",
    "    if a < b:\n",
    "        return a\n",
    "    else:\n",
    "        return b\n",
    "    \n",
    "nums = [(5, 3), (2, 8), (100, 15)]\n",
    "for a,b in nums:\n",
    "    print(min_two(a,b),end=\" \")"
   ]
  },
  {
   "cell_type": "code",
   "execution_count": 2,
   "metadata": {},
   "outputs": [
    {
     "name": "stdout",
     "output_type": "stream",
     "text": [
      "-4701461 -9265785 -9416514 -9504592 -9883059 -9288455 5122744 -396523 -2335569 -5667539 1601317 -8470538 -9197676 -4962477 5939673 -8761788 1986391 -8027573 -5895240 -3268303 3776830 "
     ]
    }
   ],
   "source": [
    "def min_two(a,b):\n",
    "    if a < b:\n",
    "        return a\n",
    "    else:\n",
    "        return b\n",
    "    \n",
    "nums = [(-4701461, 2438347), (-6419839, -9265785), (-9416514, 1941972), (7760385, -9504592), (-7373062, -9883059), (-9288455, -7633798), (8755771, 5122744), (-396523, 9699109), (-2335569, 7862153), (-805761, -5667539), (6179704, 1601317), (-8470538, 6064478), (-9197676, -8340157), (3146228, -4962477), (5939673, 9548043), (-1417374, -8761788), (1986391, 2162787), (-8027573, 2569877), (-5895240, 9732812), (3065285, -3268303), (9849753, 3776830)]\n",
    "for a,b in nums:\n",
    "    print(min_two(a,b),end=\" \")"
   ]
  },
  {
   "cell_type": "markdown",
   "metadata": {},
   "source": [
    "5. Minimum of Three"
   ]
  },
  {
   "cell_type": "code",
   "execution_count": 4,
   "metadata": {},
   "outputs": [
    {
     "name": "stdout",
     "output_type": "stream",
     "text": [
      "3 15 137 "
     ]
    }
   ],
   "source": [
    "def min_three(a,b,c):\n",
    "    if a < b and a < c:\n",
    "        return a\n",
    "    elif c < a and c < b:\n",
    "        return c\n",
    "    else:\n",
    "        return b\n",
    "    \n",
    "nums = [(7, 3, 5), (15, 20, 40), (300, 550, 137)]\n",
    "for a,b,c in nums:\n",
    "    print(min_three(a,b,c),end=\" \")"
   ]
  },
  {
   "cell_type": "code",
   "execution_count": 5,
   "metadata": {},
   "outputs": [
    {
     "name": "stdout",
     "output_type": "stream",
     "text": [
      "3 15 137 "
     ]
    }
   ],
   "source": [
    "def min_three(a,b,c):\n",
    "    return min(a,b,c)\n",
    "    \n",
    "nums = [(7, 3, 5), (15, 20, 40), (300, 550, 137)]\n",
    "for a,b,c in nums:\n",
    "    print(min_three(a,b,c),end=\" \")"
   ]
  },
  {
   "cell_type": "code",
   "execution_count": 6,
   "metadata": {},
   "outputs": [
    {
     "name": "stdout",
     "output_type": "stream",
     "text": [
      "-6077907 -9297473 -8566492 -1708141 -7380941 -7358816 -4930224 -6155032 -8746329 -832026 -9250809 -4275334 -2841826 -6644772 -3383904 -5102612 -8169660 -2996065 -1742395 -4709439 -3020391 -1390025 -5514249 -9676319 -6321092 -6217499 -5267651 -3979268 -1919673 "
     ]
    }
   ],
   "source": [
    "def min_three(a,b,c):\n",
    "    return min(a,b,c)\n",
    "    \n",
    "nums = [(-6077907, 9796076, 6079509), (-5024524, -4428600, -9297473), (-8566492, 5309119, 8517301), (-1708141, 3510657, 7696807), (1190400, 2800826, -7380941), (-7358816, -1258666, -5609213), (3877350, 6932952, -4930224), (-6155032, -2671599, 3280450), (-8746329, -5132117, -4164533), (7032955, 6827097, -832026), (3619952, -9250809, -1035950), (-300539, -4275334, 4535450), (401988, -2841826, -155430), (-1080711, 5450032, -6644772), (-3383904, -3359568, 6156053), (-764846, -718384, -5102612), (3625941, -6841033, -8169660), (8695717, -2996065, -841259), (1976168, -1742395, 4026624), (7811635, -4709439, 853721), (-3020391, 8910513, 1602911), (5943659, -1390025, 7327577), (479110, 9011962, -5514249), (-9676319, -2068749, 9935782), (-6321092, 4547347, -3423785), (9834961, -6217499, 5857830), (-5267651, 7408442, 9016797), (-3437311, 6104159, -3979268), (5721430, -1919673, 4278337)]\n",
    "for a,b,c in nums:\n",
    "    print(min_three(a,b,c),end=\" \")"
   ]
  },
  {
   "cell_type": "code",
   "execution_count": null,
   "metadata": {},
   "outputs": [],
   "source": []
  }
 ],
 "metadata": {
  "kernelspec": {
   "display_name": "Python 3",
   "language": "python",
   "name": "python3"
  },
  "language_info": {
   "codemirror_mode": {
    "name": "ipython",
    "version": 3
   },
   "file_extension": ".py",
   "mimetype": "text/x-python",
   "name": "python",
   "nbconvert_exporter": "python",
   "pygments_lexer": "ipython3",
   "version": "3.6.8"
  }
 },
 "nbformat": 4,
 "nbformat_minor": 2
}
