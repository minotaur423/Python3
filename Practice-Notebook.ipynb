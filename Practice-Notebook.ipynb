{
 "cells": [
  {
   "cell_type": "markdown",
   "metadata": {},
   "source": [
    "1. Sum \"A+B\""
   ]
  },
  {
   "cell_type": "code",
   "execution_count": 2,
   "metadata": {},
   "outputs": [
    {
     "name": "stdout",
     "output_type": "stream",
     "text": [
      "14935\n"
     ]
    }
   ],
   "source": [
    "def sum_two(a,b):\n",
    "    print(a + b)\n",
    "    \n",
    "sum_two(11844,3091)"
   ]
  },
  {
   "cell_type": "markdown",
   "metadata": {},
   "source": [
    "2. Sum in Loop"
   ]
  },
  {
   "cell_type": "code",
   "execution_count": 4,
   "metadata": {},
   "outputs": [
    {
     "name": "stdout",
     "output_type": "stream",
     "text": [
      "25182\n"
     ]
    }
   ],
   "source": [
    "def sum_nums(*args):\n",
    "    result = 0\n",
    "    for arg in args:\n",
    "        result += arg\n",
    "    return result\n",
    "\n",
    "total = sum_nums(840, 1226, 1253, 796, 426, 1205, 956, 571, 750, 154, 567, 784, 743, 1013, 1135, 1276, 769, 171, 1029, 1048, 860, 1247, 111, 595, 775, 1174, 982, 1039, 1188, 499)\n",
    "print(total)"
   ]
  },
  {
   "cell_type": "markdown",
   "metadata": {},
   "source": [
    "3. Sums in Loop"
   ]
  },
  {
   "cell_type": "code",
   "execution_count": 8,
   "metadata": {},
   "outputs": [
    {
     "name": "stdout",
     "output_type": "stream",
     "text": [
      "108 260 1999 "
     ]
    }
   ],
   "source": [
    "def sum_two(a,b):\n",
    "    return(a + b)\n",
    "    \n",
    "numbers = [(100, 8), (15, 245), (1945, 54)]\n",
    "for a,b in numbers:\n",
    "    print(sum_two(a,b), end=\" \")"
   ]
  },
  {
   "cell_type": "code",
   "execution_count": 9,
   "metadata": {},
   "outputs": [
    {
     "name": "stdout",
     "output_type": "stream",
     "text": [
      "1240835 601255 859214 133104 873510 1418825 897404 1283876 773128 1361389 1074057 1072316 1626834 1562859 1306822 "
     ]
    }
   ],
   "source": [
    "def sum_two(a,b):\n",
    "    return(a + b)\n",
    "    \n",
    "numbers = [(607706, 633129), (93167, 508088), (585704, 273510), (41556, 91548), (695208, 178302), (630518, 788307), (80203, 817201), (990525, 293351), (622702, 150426), (888487, 472902), (154072, 919985), (855784, 216532), (739758, 887076), (834782, 728077), (364554, 942268)]\n",
    "for a,b in numbers:\n",
    "    print(sum_two(a,b), end=\" \")"
   ]
  },
  {
   "cell_type": "code",
   "execution_count": null,
   "metadata": {},
   "outputs": [],
   "source": []
  },
  {
   "cell_type": "code",
   "execution_count": null,
   "metadata": {},
   "outputs": [],
   "source": []
  },
  {
   "cell_type": "code",
   "execution_count": null,
   "metadata": {},
   "outputs": [],
   "source": []
  }
 ],
 "metadata": {
  "kernelspec": {
   "display_name": "Python 3",
   "language": "python",
   "name": "python3"
  },
  "language_info": {
   "codemirror_mode": {
    "name": "ipython",
    "version": 3
   },
   "file_extension": ".py",
   "mimetype": "text/x-python",
   "name": "python",
   "nbconvert_exporter": "python",
   "pygments_lexer": "ipython3",
   "version": "3.7.3"
  }
 },
 "nbformat": 4,
 "nbformat_minor": 2
}
