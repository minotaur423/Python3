{
 "cells": [
  {
   "cell_type": "code",
   "execution_count": 26,
   "metadata": {},
   "outputs": [
    {
     "name": "stdout",
     "output_type": "stream",
     "text": [
      "Enter your full name: Jose\n",
      "\n",
      "Enter your age: 56\n",
      "Enter a number from 1 to 10: 3\n",
      "\n",
      "Jose, you will be 100 in the year 2064.\n",
      "\n",
      "Jose, you will be 100 in the year 2064.\n",
      "\n",
      "Jose, you will be 100 in the year 2064.\n"
     ]
    }
   ],
   "source": [
    "import datetime\n",
    "\n",
    "name = input('Enter your full name: ')\n",
    "age = int(input('\\nEnter your age: '))\n",
    "mydate = ((datetime.datetime.now().year - age) + 100)\n",
    "count = int(input(\"Enter a number from 1 to 10: \"))\n",
    "for i in range(count):\n",
    "    print(f'\\n{name}, you will be 100 in the year {mydate}.')"
   ]
  },
  {
   "cell_type": "code",
   "execution_count": 41,
   "metadata": {},
   "outputs": [
    {
     "name": "stdout",
     "output_type": "stream",
     "text": [
      "Enter a number to check: 125\n",
      "\n",
      "Enter a number to divide by: 5\n",
      "\n",
      "The number 125 is evenly divisible by 5.\n"
     ]
    }
   ],
   "source": [
    "num = input(\"Enter a number to check: \")\n",
    "check = input(\"\\nEnter a number to divide by: \")\n",
    "\n",
    "if int(num) % int(check) == 0:\n",
    "    print(f'\\nThe number {num} is evenly divisible by {check}.')\n",
    "else:\n",
    "    print(f'\\nThe number {num} is not evenly divisible by {check}.')"
   ]
  },
  {
   "cell_type": "code",
   "execution_count": 48,
   "metadata": {},
   "outputs": [
    {
     "name": "stdout",
     "output_type": "stream",
     "text": [
      "1 1 2 3 "
     ]
    }
   ],
   "source": [
    "a = [1, 1, 2, 3, 5, 8, 13, 21, 34, 55, 89]\n",
    "\n",
    "for i in a:\n",
    "    if i < 5:\n",
    "        print(i, end=\" \")"
   ]
  },
  {
   "cell_type": "code",
   "execution_count": 49,
   "metadata": {},
   "outputs": [
    {
     "name": "stdout",
     "output_type": "stream",
     "text": [
      "[1, 1, 2, 3]\n"
     ]
    }
   ],
   "source": [
    "a = [1, 1, 2, 3, 5, 8, 13, 21, 34, 55, 89]\n",
    "b = []\n",
    "\n",
    "for j in a:\n",
    "    if j < 5:\n",
    "        b.append(j)\n",
    "print(b)"
   ]
  },
  {
   "cell_type": "code",
   "execution_count": 57,
   "metadata": {},
   "outputs": [
    {
     "name": "stdout",
     "output_type": "stream",
     "text": [
      "[1, 1, 2, 3]\n"
     ]
    }
   ],
   "source": [
    "a = [1, 1, 2, 3, 5, 8, 13, 21, 34, 55, 89]\n",
    "print([k for k in a if k < 5 ])"
   ]
  },
  {
   "cell_type": "code",
   "execution_count": 59,
   "metadata": {},
   "outputs": [
    {
     "name": "stdout",
     "output_type": "stream",
     "text": [
      "Enter a number: 35\n",
      "[1, 1, 2, 3, 5, 8, 13, 21, 34]\n"
     ]
    }
   ],
   "source": [
    "a = [1, 1, 2, 3, 5, 8, 13, 21, 34, 55, 89]\n",
    "num = int(input(\"Enter a number: \"))\n",
    "print([l for l in a if l < num])"
   ]
  },
  {
   "cell_type": "code",
   "execution_count": 75,
   "metadata": {},
   "outputs": [
    {
     "name": "stdout",
     "output_type": "stream",
     "text": [
      "Enter a number and I'll give you all the divisors: 6\n",
      "[1, 2, 3, 6]\n"
     ]
    }
   ],
   "source": [
    "num = int(input(\"Enter a number and I'll give you all the divisors: \"))\n",
    "div = []\n",
    "numlist = list(range(1,num + 1))\n",
    "\n",
    "for i in numlist:\n",
    "    if num % i == 0:\n",
    "        div.append(i)\n",
    "\n",
    "print(div)"
   ]
  },
  {
   "cell_type": "code",
   "execution_count": 76,
   "metadata": {},
   "outputs": [
    {
     "data": {
      "text/plain": [
       "[1, 2, 3, 4, 5, 6]"
      ]
     },
     "execution_count": 76,
     "metadata": {},
     "output_type": "execute_result"
    }
   ],
   "source": [
    "numlist"
   ]
  },
  {
   "cell_type": "code",
   "execution_count": null,
   "metadata": {},
   "outputs": [],
   "source": []
  }
 ],
 "metadata": {
  "kernelspec": {
   "display_name": "Python 3",
   "language": "python",
   "name": "python3"
  },
  "language_info": {
   "codemirror_mode": {
    "name": "ipython",
    "version": 3
   },
   "file_extension": ".py",
   "mimetype": "text/x-python",
   "name": "python",
   "nbconvert_exporter": "python",
   "pygments_lexer": "ipython3",
   "version": "3.7.3"
  }
 },
 "nbformat": 4,
 "nbformat_minor": 2
}
